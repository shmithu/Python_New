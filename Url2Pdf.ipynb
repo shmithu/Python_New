{
  "nbformat": 4,
  "nbformat_minor": 0,
  "metadata": {
    "colab": {
      "provenance": [],
      "toc_visible": true,
      "authorship_tag": "ABX9TyNNISUqI4A/uuavD9yusHyR",
      "include_colab_link": true
    },
    "kernelspec": {
      "name": "python3",
      "display_name": "Python 3"
    },
    "language_info": {
      "name": "python"
    }
  },
  "cells": [
    {
      "cell_type": "markdown",
      "metadata": {
        "id": "view-in-github",
        "colab_type": "text"
      },
      "source": [
        "<a href=\"https://colab.research.google.com/github/shmithu/Python_New/blob/main/Url2Pdf.ipynb\" target=\"_parent\"><img src=\"https://colab.research.google.com/assets/colab-badge.svg\" alt=\"Open In Colab\"/></a>"
      ]
    },
    {
      "cell_type": "code",
      "execution_count": 2,
      "metadata": {
        "colab": {
          "base_uri": "https://localhost:8080/"
        },
        "collapsed": true,
        "id": "4-3ml1SskuFw",
        "outputId": "70eba18d-e23a-4b60-df4d-2377b23001e8"
      },
      "outputs": [
        {
          "output_type": "stream",
          "name": "stdout",
          "text": [
            "Collecting xhtml2pdf\n",
            "  Downloading xhtml2pdf-0.2.17-py3-none-any.whl.metadata (22 kB)\n",
            "Collecting arabic-reshaper>=3.0.0 (from xhtml2pdf)\n",
            "  Downloading arabic_reshaper-3.0.0-py3-none-any.whl.metadata (12 kB)\n",
            "Requirement already satisfied: html5lib>=1.1 in /usr/local/lib/python3.11/dist-packages (from xhtml2pdf) (1.1)\n",
            "Requirement already satisfied: Pillow>=8.1.1 in /usr/local/lib/python3.11/dist-packages (from xhtml2pdf) (11.2.1)\n",
            "Collecting pyHanko>=0.12.1 (from xhtml2pdf)\n",
            "  Downloading pyhanko-0.29.0-py3-none-any.whl.metadata (3.3 kB)\n",
            "Collecting pyhanko-certvalidator>=0.19.5 (from xhtml2pdf)\n",
            "  Downloading pyhanko_certvalidator-0.27.0-py3-none-any.whl.metadata (5.0 kB)\n",
            "Collecting pypdf>=3.1.0 (from xhtml2pdf)\n",
            "  Downloading pypdf-5.6.0-py3-none-any.whl.metadata (7.2 kB)\n",
            "Collecting python-bidi>=0.5.0 (from xhtml2pdf)\n",
            "  Downloading python_bidi-0.6.6-cp311-cp311-manylinux_2_17_x86_64.manylinux2014_x86_64.whl.metadata (4.9 kB)\n",
            "Collecting reportlab<5,>=4.0.4 (from xhtml2pdf)\n",
            "  Downloading reportlab-4.4.1-py3-none-any.whl.metadata (1.8 kB)\n",
            "Collecting svglib>=1.2.1 (from xhtml2pdf)\n",
            "  Downloading svglib-1.5.1.tar.gz (913 kB)\n",
            "\u001b[2K     \u001b[90m━━━━━━━━━━━━━━━━━━━━━━━━━━━━━━━━━━━━━━\u001b[0m \u001b[32m913.9/913.9 kB\u001b[0m \u001b[31m14.4 MB/s\u001b[0m eta \u001b[36m0:00:00\u001b[0m\n",
            "\u001b[?25h  Preparing metadata (setup.py) ... \u001b[?25l\u001b[?25hdone\n",
            "Requirement already satisfied: six>=1.9 in /usr/local/lib/python3.11/dist-packages (from html5lib>=1.1->xhtml2pdf) (1.17.0)\n",
            "Requirement already satisfied: webencodings in /usr/local/lib/python3.11/dist-packages (from html5lib>=1.1->xhtml2pdf) (0.5.1)\n",
            "Collecting asn1crypto>=1.5.1 (from pyHanko>=0.12.1->xhtml2pdf)\n",
            "  Downloading asn1crypto-1.5.1-py2.py3-none-any.whl.metadata (13 kB)\n",
            "Requirement already satisfied: tzlocal>=4.3 in /usr/local/lib/python3.11/dist-packages (from pyHanko>=0.12.1->xhtml2pdf) (5.3.1)\n",
            "Requirement already satisfied: requests>=2.31.0 in /usr/local/lib/python3.11/dist-packages (from pyHanko>=0.12.1->xhtml2pdf) (2.32.3)\n",
            "Requirement already satisfied: pyyaml>=6.0 in /usr/local/lib/python3.11/dist-packages (from pyHanko>=0.12.1->xhtml2pdf) (6.0.2)\n",
            "Requirement already satisfied: cryptography>=43.0.3 in /usr/local/lib/python3.11/dist-packages (from pyHanko>=0.12.1->xhtml2pdf) (43.0.3)\n",
            "Requirement already satisfied: lxml>=5.4.0 in /usr/local/lib/python3.11/dist-packages (from pyHanko>=0.12.1->xhtml2pdf) (5.4.0)\n",
            "Collecting oscrypto>=1.1.0 (from pyhanko-certvalidator>=0.19.5->xhtml2pdf)\n",
            "  Downloading oscrypto-1.3.0-py2.py3-none-any.whl.metadata (15 kB)\n",
            "Collecting uritools>=3.0.1 (from pyhanko-certvalidator>=0.19.5->xhtml2pdf)\n",
            "  Downloading uritools-5.0.0-py3-none-any.whl.metadata (5.0 kB)\n",
            "Requirement already satisfied: chardet in /usr/local/lib/python3.11/dist-packages (from reportlab<5,>=4.0.4->xhtml2pdf) (5.2.0)\n",
            "Requirement already satisfied: tinycss2>=0.6.0 in /usr/local/lib/python3.11/dist-packages (from svglib>=1.2.1->xhtml2pdf) (1.4.0)\n",
            "Collecting cssselect2>=0.2.0 (from svglib>=1.2.1->xhtml2pdf)\n",
            "  Downloading cssselect2-0.8.0-py3-none-any.whl.metadata (2.9 kB)\n",
            "Requirement already satisfied: cffi>=1.12 in /usr/local/lib/python3.11/dist-packages (from cryptography>=43.0.3->pyHanko>=0.12.1->xhtml2pdf) (1.17.1)\n",
            "Requirement already satisfied: charset-normalizer<4,>=2 in /usr/local/lib/python3.11/dist-packages (from requests>=2.31.0->pyHanko>=0.12.1->xhtml2pdf) (3.4.2)\n",
            "Requirement already satisfied: idna<4,>=2.5 in /usr/local/lib/python3.11/dist-packages (from requests>=2.31.0->pyHanko>=0.12.1->xhtml2pdf) (3.10)\n",
            "Requirement already satisfied: urllib3<3,>=1.21.1 in /usr/local/lib/python3.11/dist-packages (from requests>=2.31.0->pyHanko>=0.12.1->xhtml2pdf) (2.4.0)\n",
            "Requirement already satisfied: certifi>=2017.4.17 in /usr/local/lib/python3.11/dist-packages (from requests>=2.31.0->pyHanko>=0.12.1->xhtml2pdf) (2025.4.26)\n",
            "Requirement already satisfied: pycparser in /usr/local/lib/python3.11/dist-packages (from cffi>=1.12->cryptography>=43.0.3->pyHanko>=0.12.1->xhtml2pdf) (2.22)\n",
            "Downloading xhtml2pdf-0.2.17-py3-none-any.whl (125 kB)\n",
            "\u001b[2K   \u001b[90m━━━━━━━━━━━━━━━━━━━━━━━━━━━━━━━━━━━━━━━━\u001b[0m \u001b[32m125.3/125.3 kB\u001b[0m \u001b[31m8.9 MB/s\u001b[0m eta \u001b[36m0:00:00\u001b[0m\n",
            "\u001b[?25hDownloading arabic_reshaper-3.0.0-py3-none-any.whl (20 kB)\n",
            "Downloading pyhanko-0.29.0-py3-none-any.whl (420 kB)\n",
            "\u001b[2K   \u001b[90m━━━━━━━━━━━━━━━━━━━━━━━━━━━━━━━━━━━━━━━━\u001b[0m \u001b[32m420.2/420.2 kB\u001b[0m \u001b[31m22.3 MB/s\u001b[0m eta \u001b[36m0:00:00\u001b[0m\n",
            "\u001b[?25hDownloading pyhanko_certvalidator-0.27.0-py3-none-any.whl (110 kB)\n",
            "\u001b[2K   \u001b[90m━━━━━━━━━━━━━━━━━━━━━━━━━━━━━━━━━━━━━━━━\u001b[0m \u001b[32m110.5/110.5 kB\u001b[0m \u001b[31m6.8 MB/s\u001b[0m eta \u001b[36m0:00:00\u001b[0m\n",
            "\u001b[?25hDownloading pypdf-5.6.0-py3-none-any.whl (304 kB)\n",
            "\u001b[2K   \u001b[90m━━━━━━━━━━━━━━━━━━━━━━━━━━━━━━━━━━━━━━━━\u001b[0m \u001b[32m304.2/304.2 kB\u001b[0m \u001b[31m18.6 MB/s\u001b[0m eta \u001b[36m0:00:00\u001b[0m\n",
            "\u001b[?25hDownloading python_bidi-0.6.6-cp311-cp311-manylinux_2_17_x86_64.manylinux2014_x86_64.whl (292 kB)\n",
            "\u001b[2K   \u001b[90m━━━━━━━━━━━━━━━━━━━━━━━━━━━━━━━━━━━━━━━━\u001b[0m \u001b[32m292.9/292.9 kB\u001b[0m \u001b[31m16.9 MB/s\u001b[0m eta \u001b[36m0:00:00\u001b[0m\n",
            "\u001b[?25hDownloading reportlab-4.4.1-py3-none-any.whl (2.0 MB)\n",
            "\u001b[2K   \u001b[90m━━━━━━━━━━━━━━━━━━━━━━━━━━━━━━━━━━━━━━━━\u001b[0m \u001b[32m2.0/2.0 MB\u001b[0m \u001b[31m50.7 MB/s\u001b[0m eta \u001b[36m0:00:00\u001b[0m\n",
            "\u001b[?25hDownloading asn1crypto-1.5.1-py2.py3-none-any.whl (105 kB)\n",
            "\u001b[2K   \u001b[90m━━━━━━━━━━━━━━━━━━━━━━━━━━━━━━━━━━━━━━━━\u001b[0m \u001b[32m105.0/105.0 kB\u001b[0m \u001b[31m7.3 MB/s\u001b[0m eta \u001b[36m0:00:00\u001b[0m\n",
            "\u001b[?25hDownloading cssselect2-0.8.0-py3-none-any.whl (15 kB)\n",
            "Downloading oscrypto-1.3.0-py2.py3-none-any.whl (194 kB)\n",
            "\u001b[2K   \u001b[90m━━━━━━━━━━━━━━━━━━━━━━━━━━━━━━━━━━━━━━━━\u001b[0m \u001b[32m194.6/194.6 kB\u001b[0m \u001b[31m10.7 MB/s\u001b[0m eta \u001b[36m0:00:00\u001b[0m\n",
            "\u001b[?25hDownloading uritools-5.0.0-py3-none-any.whl (10 kB)\n",
            "Building wheels for collected packages: svglib\n",
            "  Building wheel for svglib (setup.py) ... \u001b[?25l\u001b[?25hdone\n",
            "  Created wheel for svglib: filename=svglib-1.5.1-py3-none-any.whl size=30905 sha256=17702be160e070372190e4ebadcb74680f7812d77c79f9f793a7418793a66b14\n",
            "  Stored in directory: /root/.cache/pip/wheels/7e/01/0e/e6e336915d6e8448890a695770ba88fe030cc71060988016f6\n",
            "Successfully built svglib\n",
            "Installing collected packages: python-bidi, asn1crypto, arabic-reshaper, uritools, reportlab, pypdf, oscrypto, cssselect2, svglib, pyhanko-certvalidator, pyHanko, xhtml2pdf\n",
            "Successfully installed arabic-reshaper-3.0.0 asn1crypto-1.5.1 cssselect2-0.8.0 oscrypto-1.3.0 pyHanko-0.29.0 pyhanko-certvalidator-0.27.0 pypdf-5.6.0 python-bidi-0.6.6 reportlab-4.4.1 svglib-1.5.1 uritools-5.0.0 xhtml2pdf-0.2.17\n"
          ]
        }
      ],
      "source": [
        "pip install xhtml2pdf"
      ]
    },
    {
      "cell_type": "code",
      "source": [
        "from xhtml2pdf import pisa\n",
        "import requests\n",
        "\n",
        "def url2pdf(url, pdf_path):\n",
        "    # Fetch the HTML content from the URL\n",
        "    response = requests.get(url)\n",
        "    if response.status_code != 200:\n",
        "        print(f\"Failed to fetch URL: {url}\")\n",
        "        return False\n",
        "\n",
        "    html_content = response.text\n",
        "\n",
        "    # Generate PDF\n",
        "    with open(pdf_path, \"wb\") as pdf_file:\n",
        "        pisa_status = pisa.CreatePDF(html_content, dest=pdf_file)\n",
        "\n",
        "    return not pisa_status.err\n",
        "\n",
        "# URL to fetch\n",
        "url_to_fetch = \"https://google.com\"\n",
        "\n",
        "# PDF path to save\n",
        "pdf_path = \"google.pdf\"\n",
        "\n",
        "# Generate PDF\n",
        "if url2pdf(url_to_fetch, pdf_path):\n",
        "    print(f\"PDF generated and saved at {pdf_path}\")\n",
        "else:\n",
        "    print(\"PDF generation failed\")\n"
      ],
      "metadata": {
        "id": "f644_KYblkCV"
      },
      "execution_count": null,
      "outputs": []
    }
  ]
}